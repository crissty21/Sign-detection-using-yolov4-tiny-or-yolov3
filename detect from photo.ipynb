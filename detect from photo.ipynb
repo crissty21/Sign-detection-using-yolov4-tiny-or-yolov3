{
 "cells": [
  {
   "cell_type": "code",
   "execution_count": 1,
   "id": "7a79bf46",
   "metadata": {},
   "outputs": [],
   "source": [
    "import numpy as np\n",
    "import cv2\n",
    "import time"
   ]
  },
  {
   "cell_type": "code",
   "execution_count": 16,
   "id": "74857e35",
   "metadata": {},
   "outputs": [],
   "source": [
    "image_BGR = cv2.imread('images/stop.png')\n",
    "\n",
    "cv2.namedWindow('Original Image', cv2.WINDOW_NORMAL)\n",
    "cv2.imshow('Original Image', image_BGR)"
   ]
  },
  {
   "cell_type": "code",
   "execution_count": 17,
   "id": "be68fae4",
   "metadata": {},
   "outputs": [
    {
     "name": "stdout",
     "output_type": "stream",
     "text": [
      "Objects Detection took 0.10069 seconds\n"
     ]
    }
   ],
   "source": [
    "\n",
    "h, w = image_BGR.shape[:2] \n",
    "\n",
    "blob = cv2.dnn.blobFromImage(image_BGR, 1 / 255.0, (416, 416),\n",
    "                             swapRB=True, crop=False)\n",
    "\n",
    "\n",
    "with open('cfg/classes.names') as f:\n",
    "    labels = [line.strip() for line in f]\n",
    "\n",
    "\n",
    "network = cv2.dnn.readNetFromDarknet('cfg/yolov4-tiny.cfg',\n",
    "                                     'cfg/yolov4-tiny.weights')\n",
    "\n",
    "\n",
    "layers_names_all = network.getLayerNames()\n",
    "\n",
    "layers_names_output = \\\n",
    "    [layers_names_all[i - 1] for i in network.getUnconnectedOutLayers()]\n",
    "\n",
    "probability_minimum = 0.5\n",
    "threshold = 0.3\n",
    "\n",
    "colours = np.random.randint(0, 255, size=(len(labels), 3), dtype='uint8')\n",
    "\n",
    "\n",
    "\n",
    "network.setInput(blob)\n",
    "start = time.time()\n",
    "output_from_network = network.forward(layers_names_output)\n",
    "end = time.time()\n",
    "\n",
    "print('Objects Detection took {:.5f} seconds'.format(end - start))\n",
    "\n",
    "\n"
   ]
  },
  {
   "cell_type": "code",
   "execution_count": 18,
   "id": "5529f7c9",
   "metadata": {},
   "outputs": [
    {
     "name": "stdout",
     "output_type": "stream",
     "text": [
      "Object 1: other\n",
      "\n",
      "Total objects been detected: 1\n",
      "Number of objects left after non-maximum suppression: 1\n"
     ]
    },
    {
     "ename": "error",
     "evalue": "OpenCV(4.7.0) D:\\a\\opencv-python\\opencv-python\\opencv\\modules\\highgui\\src\\window_w32.cpp:1261: error: (-27:Null pointer) NULL window: 'Detections' in function 'cvDestroyWindow'\n",
     "output_type": "error",
     "traceback": [
      "\u001b[1;31m---------------------------------------------------------------------------\u001b[0m",
      "\u001b[1;31merror\u001b[0m                                     Traceback (most recent call last)",
      "Cell \u001b[1;32mIn[18], line 64\u001b[0m\n\u001b[0;32m     62\u001b[0m cv2\u001b[38;5;241m.\u001b[39mimshow(\u001b[38;5;124m'\u001b[39m\u001b[38;5;124mDetections\u001b[39m\u001b[38;5;124m'\u001b[39m, image_BGR)\n\u001b[0;32m     63\u001b[0m cv2\u001b[38;5;241m.\u001b[39mwaitKey(\u001b[38;5;241m0\u001b[39m)\n\u001b[1;32m---> 64\u001b[0m \u001b[43mcv2\u001b[49m\u001b[38;5;241;43m.\u001b[39;49m\u001b[43mdestroyWindow\u001b[49m\u001b[43m(\u001b[49m\u001b[38;5;124;43m'\u001b[39;49m\u001b[38;5;124;43mDetections\u001b[39;49m\u001b[38;5;124;43m'\u001b[39;49m\u001b[43m)\u001b[49m\n",
      "\u001b[1;31merror\u001b[0m: OpenCV(4.7.0) D:\\a\\opencv-python\\opencv-python\\opencv\\modules\\highgui\\src\\window_w32.cpp:1261: error: (-27:Null pointer) NULL window: 'Detections' in function 'cvDestroyWindow'\n"
     ]
    }
   ],
   "source": [
    "bounding_boxes = []\n",
    "confidences = []\n",
    "class_numbers = []\n",
    "\n",
    "\n",
    "\n",
    "for result in output_from_network:\n",
    "    for detected_objects in result:\n",
    "        \n",
    "        scores = detected_objects[5:]\n",
    "        # Getting index of the class with the maximum value of probability\n",
    "        class_current = np.argmax(scores)\n",
    "        # Getting value of probability for defined class\n",
    "        confidence_current = scores[class_current]\n",
    "\n",
    "        # Eliminating weak predictions with minimum probability\n",
    "        if confidence_current > probability_minimum:\n",
    "            box_current = detected_objects[0:4] * np.array([w, h, w, h])\n",
    "            \n",
    "            x_center, y_center, box_width, box_height = box_current\n",
    "            x_min = int(x_center - (box_width / 2))\n",
    "            y_min = int(y_center - (box_height / 2))\n",
    "\n",
    "            bounding_boxes.append([x_min, y_min, int(box_width), int(box_height)])\n",
    "            confidences.append(float(confidence_current))\n",
    "            class_numbers.append(class_current)\n",
    "\n",
    "\n",
    "results = cv2.dnn.NMSBoxes(bounding_boxes, confidences,\n",
    "                           probability_minimum, threshold)\n",
    "\n",
    "counter = 1\n",
    "\n",
    "if len(results) > 0:\n",
    "    for i in results.flatten():\n",
    "        print('Object {0}: {1}'.format(counter, labels[int(class_numbers[i])]))\n",
    "        counter += 1\n",
    "\n",
    "        # Getting current bounding box coordinates\n",
    "        x_min, y_min = bounding_boxes[i][0], bounding_boxes[i][1]\n",
    "        box_width, box_height = bounding_boxes[i][2], bounding_boxes[i][3]\n",
    "\n",
    "        colour_box_current = colours[class_numbers[i]].tolist()\n",
    "\n",
    "        cv2.rectangle(image_BGR, (x_min, y_min),\n",
    "                      (x_min + box_width, y_min + box_height),\n",
    "                      colour_box_current, 2)\n",
    "\n",
    "        text_box_current = '{}: {:.4f}'.format(labels[int(class_numbers[i])],\n",
    "                                               confidences[i])\n",
    "\n",
    "        cv2.putText(image_BGR, text_box_current, (x_min, y_min - 5),\n",
    "                    cv2.FONT_HERSHEY_COMPLEX, 0.7, colour_box_current, 2)\n",
    "\n",
    "\n",
    "print()\n",
    "print('Total objects been detected:', len(bounding_boxes))\n",
    "print('Number of objects left after non-maximum suppression:', counter - 1)\n",
    "\n",
    "\n",
    "cv2.namedWindow('Detections', cv2.WINDOW_NORMAL)\n",
    "cv2.imshow('Detections', image_BGR)"
   ]
  },
  {
   "cell_type": "code",
   "execution_count": null,
   "id": "b916ffe9",
   "metadata": {},
   "outputs": [],
   "source": []
  }
 ],
 "metadata": {
  "kernelspec": {
   "display_name": "udemy",
   "language": "python",
   "name": "udemy"
  },
  "language_info": {
   "codemirror_mode": {
    "name": "ipython",
    "version": 3
   },
   "file_extension": ".py",
   "mimetype": "text/x-python",
   "name": "python",
   "nbconvert_exporter": "python",
   "pygments_lexer": "ipython3",
   "version": "3.9.7"
  }
 },
 "nbformat": 4,
 "nbformat_minor": 5
}
